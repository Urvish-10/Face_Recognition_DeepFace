{
  "cells": [
    {
      "cell_type": "code",
      "source": [
        "!pip install deepface\n",
        "!pip numpy\n",
        "!pip pandas\n",
        "!pip opencv-python\n",
        "!pip matplotlib\n",
        "!pip tf-keras"
      ],
      "metadata": {
        "id": "pGKHY3P2-syL",
        "outputId": "dbe2d89f-b96f-4fd0-f33f-7c47fef75612",
        "colab": {
          "base_uri": "https://localhost:8080/"
        }
      },
      "execution_count": 2,
      "outputs": [
        {
          "output_type": "stream",
          "name": "stdout",
          "text": [
            "Requirement already satisfied: deepface in /usr/local/lib/python3.11/dist-packages (0.0.93)\n",
            "Requirement already satisfied: requests>=2.27.1 in /usr/local/lib/python3.11/dist-packages (from deepface) (2.32.3)\n",
            "Requirement already satisfied: numpy>=1.14.0 in /usr/local/lib/python3.11/dist-packages (from deepface) (2.0.2)\n",
            "Requirement already satisfied: pandas>=0.23.4 in /usr/local/lib/python3.11/dist-packages (from deepface) (2.2.2)\n",
            "Requirement already satisfied: gdown>=3.10.1 in /usr/local/lib/python3.11/dist-packages (from deepface) (5.2.0)\n",
            "Requirement already satisfied: tqdm>=4.30.0 in /usr/local/lib/python3.11/dist-packages (from deepface) (4.67.1)\n",
            "Requirement already satisfied: Pillow>=5.2.0 in /usr/local/lib/python3.11/dist-packages (from deepface) (11.2.1)\n",
            "Requirement already satisfied: opencv-python>=4.5.5.64 in /usr/local/lib/python3.11/dist-packages (from deepface) (4.11.0.86)\n",
            "Requirement already satisfied: tensorflow>=1.9.0 in /usr/local/lib/python3.11/dist-packages (from deepface) (2.18.0)\n",
            "Requirement already satisfied: keras>=2.2.0 in /usr/local/lib/python3.11/dist-packages (from deepface) (3.8.0)\n",
            "Requirement already satisfied: Flask>=1.1.2 in /usr/local/lib/python3.11/dist-packages (from deepface) (3.1.1)\n",
            "Requirement already satisfied: flask-cors>=4.0.1 in /usr/local/lib/python3.11/dist-packages (from deepface) (6.0.0)\n",
            "Requirement already satisfied: mtcnn>=0.1.0 in /usr/local/lib/python3.11/dist-packages (from deepface) (1.0.0)\n",
            "Requirement already satisfied: retina-face>=0.0.1 in /usr/local/lib/python3.11/dist-packages (from deepface) (0.0.17)\n",
            "Requirement already satisfied: fire>=0.4.0 in /usr/local/lib/python3.11/dist-packages (from deepface) (0.7.0)\n",
            "Requirement already satisfied: gunicorn>=20.1.0 in /usr/local/lib/python3.11/dist-packages (from deepface) (23.0.0)\n",
            "Requirement already satisfied: termcolor in /usr/local/lib/python3.11/dist-packages (from fire>=0.4.0->deepface) (3.1.0)\n",
            "Requirement already satisfied: blinker>=1.9.0 in /usr/local/lib/python3.11/dist-packages (from Flask>=1.1.2->deepface) (1.9.0)\n",
            "Requirement already satisfied: click>=8.1.3 in /usr/local/lib/python3.11/dist-packages (from Flask>=1.1.2->deepface) (8.2.1)\n",
            "Requirement already satisfied: itsdangerous>=2.2.0 in /usr/local/lib/python3.11/dist-packages (from Flask>=1.1.2->deepface) (2.2.0)\n",
            "Requirement already satisfied: jinja2>=3.1.2 in /usr/local/lib/python3.11/dist-packages (from Flask>=1.1.2->deepface) (3.1.6)\n",
            "Requirement already satisfied: markupsafe>=2.1.1 in /usr/local/lib/python3.11/dist-packages (from Flask>=1.1.2->deepface) (3.0.2)\n",
            "Requirement already satisfied: werkzeug>=3.1.0 in /usr/local/lib/python3.11/dist-packages (from Flask>=1.1.2->deepface) (3.1.3)\n",
            "Requirement already satisfied: beautifulsoup4 in /usr/local/lib/python3.11/dist-packages (from gdown>=3.10.1->deepface) (4.13.4)\n",
            "Requirement already satisfied: filelock in /usr/local/lib/python3.11/dist-packages (from gdown>=3.10.1->deepface) (3.18.0)\n",
            "Requirement already satisfied: packaging in /usr/local/lib/python3.11/dist-packages (from gunicorn>=20.1.0->deepface) (24.2)\n",
            "Requirement already satisfied: absl-py in /usr/local/lib/python3.11/dist-packages (from keras>=2.2.0->deepface) (1.4.0)\n",
            "Requirement already satisfied: rich in /usr/local/lib/python3.11/dist-packages (from keras>=2.2.0->deepface) (13.9.4)\n",
            "Requirement already satisfied: namex in /usr/local/lib/python3.11/dist-packages (from keras>=2.2.0->deepface) (0.0.9)\n",
            "Requirement already satisfied: h5py in /usr/local/lib/python3.11/dist-packages (from keras>=2.2.0->deepface) (3.13.0)\n",
            "Requirement already satisfied: optree in /usr/local/lib/python3.11/dist-packages (from keras>=2.2.0->deepface) (0.15.0)\n",
            "Requirement already satisfied: ml-dtypes in /usr/local/lib/python3.11/dist-packages (from keras>=2.2.0->deepface) (0.4.1)\n",
            "Requirement already satisfied: joblib>=1.4.2 in /usr/local/lib/python3.11/dist-packages (from mtcnn>=0.1.0->deepface) (1.5.0)\n",
            "Requirement already satisfied: lz4>=4.3.3 in /usr/local/lib/python3.11/dist-packages (from mtcnn>=0.1.0->deepface) (4.4.4)\n",
            "Requirement already satisfied: python-dateutil>=2.8.2 in /usr/local/lib/python3.11/dist-packages (from pandas>=0.23.4->deepface) (2.9.0.post0)\n",
            "Requirement already satisfied: pytz>=2020.1 in /usr/local/lib/python3.11/dist-packages (from pandas>=0.23.4->deepface) (2025.2)\n",
            "Requirement already satisfied: tzdata>=2022.7 in /usr/local/lib/python3.11/dist-packages (from pandas>=0.23.4->deepface) (2025.2)\n",
            "Requirement already satisfied: charset-normalizer<4,>=2 in /usr/local/lib/python3.11/dist-packages (from requests>=2.27.1->deepface) (3.4.2)\n",
            "Requirement already satisfied: idna<4,>=2.5 in /usr/local/lib/python3.11/dist-packages (from requests>=2.27.1->deepface) (3.10)\n",
            "Requirement already satisfied: urllib3<3,>=1.21.1 in /usr/local/lib/python3.11/dist-packages (from requests>=2.27.1->deepface) (2.4.0)\n",
            "Requirement already satisfied: certifi>=2017.4.17 in /usr/local/lib/python3.11/dist-packages (from requests>=2.27.1->deepface) (2025.4.26)\n",
            "Requirement already satisfied: astunparse>=1.6.0 in /usr/local/lib/python3.11/dist-packages (from tensorflow>=1.9.0->deepface) (1.6.3)\n",
            "Requirement already satisfied: flatbuffers>=24.3.25 in /usr/local/lib/python3.11/dist-packages (from tensorflow>=1.9.0->deepface) (25.2.10)\n",
            "Requirement already satisfied: gast!=0.5.0,!=0.5.1,!=0.5.2,>=0.2.1 in /usr/local/lib/python3.11/dist-packages (from tensorflow>=1.9.0->deepface) (0.6.0)\n",
            "Requirement already satisfied: google-pasta>=0.1.1 in /usr/local/lib/python3.11/dist-packages (from tensorflow>=1.9.0->deepface) (0.2.0)\n",
            "Requirement already satisfied: libclang>=13.0.0 in /usr/local/lib/python3.11/dist-packages (from tensorflow>=1.9.0->deepface) (18.1.1)\n",
            "Requirement already satisfied: opt-einsum>=2.3.2 in /usr/local/lib/python3.11/dist-packages (from tensorflow>=1.9.0->deepface) (3.4.0)\n",
            "Requirement already satisfied: protobuf!=4.21.0,!=4.21.1,!=4.21.2,!=4.21.3,!=4.21.4,!=4.21.5,<6.0.0dev,>=3.20.3 in /usr/local/lib/python3.11/dist-packages (from tensorflow>=1.9.0->deepface) (5.29.4)\n",
            "Requirement already satisfied: setuptools in /usr/local/lib/python3.11/dist-packages (from tensorflow>=1.9.0->deepface) (75.2.0)\n",
            "Requirement already satisfied: six>=1.12.0 in /usr/local/lib/python3.11/dist-packages (from tensorflow>=1.9.0->deepface) (1.17.0)\n",
            "Requirement already satisfied: typing-extensions>=3.6.6 in /usr/local/lib/python3.11/dist-packages (from tensorflow>=1.9.0->deepface) (4.13.2)\n",
            "Requirement already satisfied: wrapt>=1.11.0 in /usr/local/lib/python3.11/dist-packages (from tensorflow>=1.9.0->deepface) (1.17.2)\n",
            "Requirement already satisfied: grpcio<2.0,>=1.24.3 in /usr/local/lib/python3.11/dist-packages (from tensorflow>=1.9.0->deepface) (1.71.0)\n",
            "Requirement already satisfied: tensorboard<2.19,>=2.18 in /usr/local/lib/python3.11/dist-packages (from tensorflow>=1.9.0->deepface) (2.18.0)\n",
            "Requirement already satisfied: tensorflow-io-gcs-filesystem>=0.23.1 in /usr/local/lib/python3.11/dist-packages (from tensorflow>=1.9.0->deepface) (0.37.1)\n",
            "Requirement already satisfied: wheel<1.0,>=0.23.0 in /usr/local/lib/python3.11/dist-packages (from astunparse>=1.6.0->tensorflow>=1.9.0->deepface) (0.45.1)\n",
            "Requirement already satisfied: markdown>=2.6.8 in /usr/local/lib/python3.11/dist-packages (from tensorboard<2.19,>=2.18->tensorflow>=1.9.0->deepface) (3.8)\n",
            "Requirement already satisfied: tensorboard-data-server<0.8.0,>=0.7.0 in /usr/local/lib/python3.11/dist-packages (from tensorboard<2.19,>=2.18->tensorflow>=1.9.0->deepface) (0.7.2)\n",
            "Requirement already satisfied: soupsieve>1.2 in /usr/local/lib/python3.11/dist-packages (from beautifulsoup4->gdown>=3.10.1->deepface) (2.7)\n",
            "Requirement already satisfied: PySocks!=1.5.7,>=1.5.6 in /usr/local/lib/python3.11/dist-packages (from requests[socks]->gdown>=3.10.1->deepface) (1.7.1)\n",
            "Requirement already satisfied: markdown-it-py>=2.2.0 in /usr/local/lib/python3.11/dist-packages (from rich->keras>=2.2.0->deepface) (3.0.0)\n",
            "Requirement already satisfied: pygments<3.0.0,>=2.13.0 in /usr/local/lib/python3.11/dist-packages (from rich->keras>=2.2.0->deepface) (2.19.1)\n",
            "Requirement already satisfied: mdurl~=0.1 in /usr/local/lib/python3.11/dist-packages (from markdown-it-py>=2.2.0->rich->keras>=2.2.0->deepface) (0.1.2)\n",
            "ERROR: unknown command \"numpy\"\n",
            "ERROR: unknown command \"pandas\"\n",
            "ERROR: unknown command \"opencv-python\"\n",
            "ERROR: unknown command \"matplotlib\"\n",
            "ERROR: unknown command \"tf-keras\"\n"
          ]
        }
      ]
    },
    {
      "cell_type": "code",
      "execution_count": 3,
      "metadata": {
        "id": "E6FdD4zc-cLR"
      },
      "outputs": [],
      "source": [
        "from deepface import DeepFace\n",
        "import cv2\n",
        "import matplotlib.pyplot as plt\n",
        "import numpy as np\n",
        "import os\n",
        "import shutil"
      ]
    },
    {
      "cell_type": "code",
      "execution_count": 4,
      "metadata": {
        "id": "1VQHnPzC-cLU"
      },
      "outputs": [],
      "source": [
        "# List of available backends, models, and distance metrics\n",
        "backends = [\"opencv\", \"ssd\", \"dlib\", \"mtcnn\", \"retinaface\"]\n",
        "models = [\"VGG-Face\", \"Facenet\", \"Facenet512\", \"OpenFace\", \"DeepFace\", \"DeepID\", \"ArcFace\", \"Dlib\", \"SFace\"]\n",
        "metrics = [\"cosine\", \"euclidean\", \"euclidean_l2\"]"
      ]
    },
    {
      "cell_type": "code",
      "source": [
        "import zipfile\n",
        "with zipfile.ZipFile('images.zip', 'r') as zip_ref:\n",
        "  zip_ref.extractall('Datas')"
      ],
      "metadata": {
        "id": "c45tjIL9_0qp"
      },
      "execution_count": 17,
      "outputs": []
    },
    {
      "cell_type": "code",
      "execution_count": 11,
      "metadata": {
        "scrolled": true,
        "id": "cP4FYorN-cLV",
        "outputId": "2ccfd655-b907-42e1-9e7c-9e0b06747c81",
        "colab": {
          "base_uri": "https://localhost:8080/"
        }
      },
      "outputs": [
        {
          "output_type": "stream",
          "name": "stdout",
          "text": [
            "25-06-02 06:53:44 - Found 14 newly added image(s), 0 removed image(s), 0 replaced image(s).\n"
          ]
        },
        {
          "output_type": "stream",
          "name": "stderr",
          "text": [
            "Finding representations: 100%|██████████| 14/14 [05:48<00:00, 24.91s/it]\n"
          ]
        },
        {
          "output_type": "stream",
          "name": "stdout",
          "text": [
            "25-06-02 06:59:33 - There are now 163 representations in ds_model_facenet512_detector_opencv_aligned_normalization_base_expand_0.pkl\n",
            "25-06-02 06:59:33 - Searching img/prafool.jpeg in 163 length datastore\n",
            "25-06-02 06:59:36 - find function duration 352.0928318500519 seconds\n",
            "Matched and copied: IMG_0133.jpeg\n",
            "Matched and copied: IMG_2108.jpeg\n",
            "Matched and copied: IMG_6114.jpeg\n",
            "Matched and copied: IMG_2054.jpeg\n",
            "Matched and copied: smit_prince_uv.jpeg\n",
            "Matched and copied: IMG_2108.jpeg\n",
            "Matched and copied: IMG_3790.jpeg\n",
            "Matched and copied: IMG_6079.jpeg\n",
            "Matched and copied: IMG_6079.jpeg\n",
            "Matched and copied: IMG_2108.jpeg\n",
            "Matched and copied: IMG_6079.jpeg\n",
            "Matched and copied: IMG_2054.jpeg\n",
            "Matched and copied: IMG_3790.jpeg\n",
            "Matched and copied: IMG_0147.jpeg\n",
            "Matched and copied: IMG_2108.jpeg\n",
            "Matched and copied: IMG_2108.jpeg\n",
            "Matched and copied: IMG_5305.jpeg\n",
            "Matched and copied: IMG_3790.jpeg\n",
            "Matched and copied: IMG_2108.jpeg\n",
            "Matched and copied: IMG_2108.jpeg\n",
            "Matched and copied: IMG_2108.jpeg\n",
            "Matched and copied: IMG_2108.jpeg\n",
            "Matched and copied: IMG_2108.jpeg\n",
            "Matched and copied: IMG_3790.jpeg\n",
            "Matched and copied: IMG_2108.jpeg\n",
            "Matched and copied: IMG_0140.jpeg\n",
            "Matched and copied: IMG_6079.jpeg\n",
            "Matched and copied: IMG_2108.jpeg\n",
            "Matched and copied: IMG_6079.jpeg\n",
            "Matched and copied: prince_smit_prafool.jpeg\n",
            "Matched and copied: IMG_2108.jpeg\n",
            "Matched and copied: IMG_2108.jpeg\n",
            "Matched and copied: IMG_0138.jpeg\n",
            "Matched and copied: IMG_0138.jpeg\n",
            "Matched and copied: IMG_2054.jpeg\n",
            "Matched and copied: IMG_2108.jpeg\n",
            "Matched and copied: IMG_0147.jpeg\n",
            "Matched and copied: IMG_0138.jpeg\n",
            "Matched and copied: IMG_6114.jpeg\n",
            "Matched and copied: IMG_5305.jpeg\n",
            "Matched and copied: IMG_3790.jpeg\n",
            "Matched and copied: IMG_2108.jpeg\n",
            "Matched and copied: IMG_2108.jpeg\n",
            "Matched and copied: IMG_0140.jpeg\n",
            "Matched and copied: IMG_2108.jpeg\n",
            "Matched and copied: IMG_2108.jpeg\n",
            "Matched and copied: IMG_2054.jpeg\n",
            "Matched and copied: IMG_2108.jpeg\n",
            "Matched and copied: IMG_6079.jpeg\n",
            "Matched and copied: IMG_6079.jpeg\n"
          ]
        }
      ],
      "source": [
        "# Path to the image for face recognition\n",
        "img = \"img/prafool.jpeg\"\n",
        "output_folder = \"matched_images\"\n",
        "db_path = 'Datas/'\n",
        "\n",
        "os.makedirs(output_folder, exist_ok=True)\n",
        "\n",
        "def face_recognition(img):\n",
        "    # Perform face recognition on the provided image\n",
        "    # Find faces and identify people using a specific model and distance metric\n",
        "    people = DeepFace.find(img_path=img, db_path=db_path, model_name=models[2], distance_metric=metrics[0])\n",
        "\n",
        "    # Display the original image\n",
        "    # plt.imshow(cv2.imread(img))\n",
        "\n",
        "    # Print the identities of the recognized people\n",
        "    for person in people:\n",
        "      print(f'------------------ {person}')\n",
        "      print(person['identity'][0].split('/')[1])\n",
        "\n",
        "\n",
        "    for i, person_df in enumerate(people):\n",
        "        print(f'-------- Matches for face {i + 1}: {len(person_df)} match(es) found --------')\n",
        "        for index, row in person_df.iterrows():\n",
        "            identity_path = row['identity']\n",
        "            print(identity_path)\n",
        "\n",
        "\n",
        "def face_recognition_v2(img):\n",
        "    # Perform face recognition using DeepFace\n",
        "    results = DeepFace.find(img_path=img, db_path=db_path, model_name=models[2], distance_metric=metrics[1])\n",
        "\n",
        "    # Get base name of query image (e.g., \"klaus.png\")\n",
        "    query_image_name = os.path.basename(img)\n",
        "\n",
        "    # results is a list of DataFrames (one for each face found)\n",
        "    for df in results:\n",
        "        for _, row in df.iterrows():\n",
        "            matched_path = row['identity']\n",
        "            matched_filename = os.path.basename(matched_path)\n",
        "\n",
        "            # Skip the query image itself\n",
        "            if matched_filename == query_image_name:\n",
        "                continue\n",
        "\n",
        "            # Copy matched file to output folder\n",
        "            destination_path = os.path.join(output_folder, matched_filename)\n",
        "            shutil.copy(matched_path, destination_path)\n",
        "            print(f\"Matched and copied: {matched_filename}\")\n",
        "\n",
        "# Perform face recognition on a single image\n",
        "face_recognition_v2(img)"
      ]
    },
    {
      "cell_type": "code",
      "source": [
        "# | Model      | Metric        | Suggested Max Distance |\n",
        "# | ---------- | ------------- | ---------------------- |\n",
        "# | VGG-Face   | cosine        | 0.4 - 0.5              |\n",
        "# | Facenet512 | euclidean\\_l2 | 0.6 - 0.7              |\n",
        "# | ArcFace    | cosine        | 0.3 - 0.4              |\n",
        "# | SFace      | euclidean\\_l2 | 0.7                    |\n",
        "\n",
        "# Refer this above table, for threshold distance, according to the model used.\n",
        "\n",
        "output_folder = \"matched_images\"\n",
        "os.makedirs(output_folder, exist_ok=True)\n",
        "\n",
        "models = [\"VGG-Face\", \"Facenet\", \"Facenet512\", \"OpenFace\", \"DeepFace\", \"DeepID\", \"ArcFace\", \"Dlib\", \"SFace\"]\n",
        "metrics = [\"cosine\", \"euclidean\", \"euclidean_l2\"]\n",
        "\n",
        "def face_recognition_v2(img):\n",
        "    db_path = 'Datas/'\n",
        "    model_name = models[2]          # Facenet512\n",
        "    distance_metric = metrics[2]    # euclidean_l2\n",
        "    max_threshold = 0.6             # Tune this (for Facenet512 + euclidean_l2)\n",
        "\n",
        "    # Perform face recognition\n",
        "    results = DeepFace.find(\n",
        "        img_path=img,\n",
        "        db_path=db_path,\n",
        "        model_name=model_name,\n",
        "        distance_metric=distance_metric,\n",
        "        enforce_detection=False\n",
        "    )\n",
        "\n",
        "    query_image_name = os.path.basename(img)\n",
        "\n",
        "    for df in results:\n",
        "        for _, row in df.iterrows():\n",
        "            if row[\"distance\"] > max_threshold:\n",
        "                continue  # Skip weak matches\n",
        "\n",
        "            matched_path = row[\"identity\"]\n",
        "            matched_filename = os.path.basename(matched_path)\n",
        "\n",
        "            if matched_filename == query_image_name:\n",
        "                continue  # Skip matching itself\n",
        "\n",
        "            destination_path = os.path.join(output_folder, matched_filename)\n",
        "            shutil.copy(matched_path, destination_path)\n",
        "            print(f\"Matched and copied: {matched_filename} (Distance: {row['distance']:.4f})\")\n",
        "\n",
        "# Call the function\n",
        "face_recognition_v2(\"img/prafool.jpeg\")"
      ],
      "metadata": {
        "id": "ir9eFpSxfxP2",
        "outputId": "27212c9d-8f00-4364-bbff-cdf374bcf3bf",
        "colab": {
          "base_uri": "https://localhost:8080/"
        }
      },
      "execution_count": null,
      "outputs": [
        {
          "output_type": "stream",
          "name": "stdout",
          "text": [
            "25-06-02 09:24:51 - Found 20 newly added image(s), 0 removed image(s), 0 replaced image(s).\n"
          ]
        },
        {
          "output_type": "stream",
          "name": "stderr",
          "text": [
            "Finding representations:  45%|████▌     | 9/20 [06:37<10:08, 55.31s/it]"
          ]
        }
      ]
    },
    {
      "cell_type": "code",
      "source": [
        "# Prebuilt db cache\n",
        "\n",
        "from deepface import DeepFace\n",
        "import pickle\n",
        "\n",
        "# Run once to cache DB embeddings\n",
        "embeddings = DeepFace.represent(\n",
        "    img_path=\"Data/\",\n",
        "    model_name=\"Facenet512\",\n",
        "    enforce_detection=False\n",
        ")\n",
        "\n",
        "# Save to disk\n",
        "with open(\"db_embeddings.pkl\", \"wb\") as f:\n",
        "    pickle.dump(embeddings, f)\n",
        "\n",
        "\n",
        "# Load embeddings and run search\n",
        "with open(\"db_embeddings.pkl\", \"rb\") as f:\n",
        "    embeddings = pickle.load(f)\n",
        "\n",
        "results = DeepFace.find(\n",
        "    img_path=img,\n",
        "    model_name=\"Facenet512\",\n",
        "    distance_metric=\"euclidean_l2\",\n",
        "    db_path=\"Data/\",\n",
        "    enforce_detection=False,\n",
        "    stored_embeddings=embeddings,\n",
        "    detector_backend=\"retinaface\"\n",
        ")\n"
      ],
      "metadata": {
        "id": "2r4FHgpXiIsx"
      },
      "execution_count": null,
      "outputs": []
    },
    {
      "cell_type": "code",
      "execution_count": null,
      "metadata": {
        "id": "HgqKz8Gt-cLV"
      },
      "outputs": [],
      "source": [
        "# Use this for video streaming related stuff.\n",
        "\n",
        "def realtime_face_recognition():\n",
        "    # Define a video capture object\n",
        "    vid = cv2.VideoCapture(0)\n",
        "\n",
        "    while True:\n",
        "        # Capture the video frame by frame\n",
        "        ret, frame = vid.read()\n",
        "\n",
        "        # Perform face recognition on the captured frame\n",
        "        # Find faces and identify people using a specific model and distance metric\n",
        "        people = DeepFace.find(img_path=frame, db_path=db_path, model_name=models[2], distance_metric=metrics[2], enforce_detection=False)\n",
        "\n",
        "        for person in people:\n",
        "            # Retrieve the coordinates of the face bounding box\n",
        "            x = person['source_x'][0]\n",
        "            y = person['source_y'][0]\n",
        "            w = person['source_w'][0]\n",
        "            h = person['source_h'][0]\n",
        "\n",
        "            # Draw a rectangle around the face\n",
        "            cv2.rectangle(frame, (x, y), (x+w, y+h), (0, 255, 0), 2)\n",
        "\n",
        "            # Get the person's name and display it on the image\n",
        "            name = person['identity'][0].split('/')[1]\n",
        "            cv2.putText(frame, name, (x, y), cv2.FONT_ITALIC, 1, (0, 0, 255), 2)\n",
        "\n",
        "        # Display the resulting frame\n",
        "        cv2.namedWindow('frame', cv2.WINDOW_NORMAL)\n",
        "        cv2.resizeWindow('frame', 960, 720)\n",
        "        cv2.imshow('frame', frame)\n",
        "\n",
        "        # Check if the 'q' button is pressed to quit the program\n",
        "        if cv2.waitKey(1) & 0xFF == ord('q'):\n",
        "            break\n",
        "\n",
        "    # Release the video capture object and close all windows\n",
        "    vid.release()\n",
        "    cv2.destroyAllWindows()\n",
        "\n",
        "# Perform real-time face recognition using the webcam\n",
        "# realtime_face_recognition()"
      ]
    }
  ],
  "metadata": {
    "kernelspec": {
      "display_name": "Python 3 (ipykernel)",
      "language": "python",
      "name": "python3"
    },
    "language_info": {
      "codemirror_mode": {
        "name": "ipython",
        "version": 3
      },
      "file_extension": ".py",
      "mimetype": "text/x-python",
      "name": "python",
      "nbconvert_exporter": "python",
      "pygments_lexer": "ipython3",
      "version": "3.10.6"
    },
    "colab": {
      "provenance": []
    }
  },
  "nbformat": 4,
  "nbformat_minor": 0
}